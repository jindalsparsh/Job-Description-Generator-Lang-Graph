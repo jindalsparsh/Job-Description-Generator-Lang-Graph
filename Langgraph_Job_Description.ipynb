{
  "nbformat": 4,
  "nbformat_minor": 0,
  "metadata": {
    "colab": {
      "provenance": [],
      "include_colab_link": true
    },
    "kernelspec": {
      "name": "python3",
      "display_name": "Python 3"
    },
    "language_info": {
      "name": "python"
    }
  },
  "cells": [
    {
      "cell_type": "markdown",
      "metadata": {
        "id": "view-in-github",
        "colab_type": "text"
      },
      "source": [
        "<a href=\"https://colab.research.google.com/github/jindalsparsh/Job-Description-Generator-Lang-Graph/blob/main/Langgraph_Job_Description.ipynb\" target=\"_parent\"><img src=\"https://colab.research.google.com/assets/colab-badge.svg\" alt=\"Open In Colab\"/></a>"
      ]
    },
    {
      "cell_type": "code",
      "execution_count": 2,
      "metadata": {
        "id": "BjNg7nwZZuh9"
      },
      "outputs": [],
      "source": [
        "%%capture --no-stderr\n",
        "%pip install -U langgraph langsmith langchain_openai langchain_community google-search-results"
      ]
    },
    {
      "cell_type": "code",
      "source": [
        "import os\n",
        "from typing import Annotated\n",
        "from typing_extensions import TypedDict\n",
        "from langgraph.graph import StateGraph, START, END\n",
        "from langgraph.graph.message import add_messages\n",
        "from langchain_openai import OpenAI"
      ],
      "metadata": {
        "id": "RFXz1sBxaXo3"
      },
      "execution_count": 3,
      "outputs": []
    },
    {
      "cell_type": "code",
      "source": [
        "from google.colab import userdata\n",
        "os.environ['OPENAI_API_KEY'] = userdata.get('OPENAI_API_KEY')\n",
        "os.environ['TAVILY_API_KEY'] = userdata.get('TALIVY_API_KEY')"
      ],
      "metadata": {
        "id": "lwf2Xj7aadOg"
      },
      "execution_count": 4,
      "outputs": []
    },
    {
      "cell_type": "code",
      "source": [
        "class State(TypedDict):\n",
        "    firm_name: str\n",
        "    role: str\n",
        "    search_results: list\n",
        "    job_description: str"
      ],
      "metadata": {
        "id": "v2tn6IUMajgf"
      },
      "execution_count": 5,
      "outputs": []
    },
    {
      "cell_type": "code",
      "source": [
        "graph_builder = StateGraph(State)"
      ],
      "metadata": {
        "id": "Sq2UZjwMaozz"
      },
      "execution_count": 6,
      "outputs": []
    },
    {
      "cell_type": "code",
      "source": [
        "def input_node(state: State):\n",
        "    firm = state.get(\"firm_name\")\n",
        "    role = state.get(\"role\")\n",
        "    if not firm or not role:\n",
        "        raise ValueError(\"Firm name and role must be provided.\")\n",
        "    return state  # Passes the input forward without changes\n",
        "\n",
        "graph_builder.add_node(\"input\", input_node)"
      ],
      "metadata": {
        "colab": {
          "base_uri": "https://localhost:8080/"
        },
        "id": "YV6gzDmtauOF",
        "outputId": "d135ac1c-a4c8-478a-f49f-cf2348bfbbfc"
      },
      "execution_count": 7,
      "outputs": [
        {
          "output_type": "execute_result",
          "data": {
            "text/plain": [
              "<langgraph.graph.state.StateGraph at 0x78a498a20c10>"
            ]
          },
          "metadata": {},
          "execution_count": 7
        }
      ]
    },
    {
      "cell_type": "code",
      "source": [
        "from langchain_community.tools.tavily_search import TavilySearchResults\n",
        "\n",
        "# Initialize the Tavily search tool\n",
        "tavily_search = TavilySearchResults(max_results=2, api_key=os.getenv(\"TAVILY_API_KEY\"))\n",
        "\n",
        "def search_node(state: State):\n",
        "    firm = state[\"firm_name\"]\n",
        "    role = state[\"role\"]\n",
        "\n",
        "    # Search for firm information\n",
        "    firm_info = tavily_search.invoke(f\"About {firm}\")\n",
        "\n",
        "    # Search for role information\n",
        "    role_info = tavily_search.invoke(f\"Responsibilities of a {role}\")\n",
        "\n",
        "    return {\n",
        "        \"search_results\": [firm_info, role_info]\n",
        "    }\n",
        "\n",
        "graph_builder.add_node(\"search\", search_node)\n"
      ],
      "metadata": {
        "colab": {
          "base_uri": "https://localhost:8080/"
        },
        "id": "i17poe5-avzf",
        "outputId": "0f8feffd-40cb-49e1-afe3-28107c9c42ee"
      },
      "execution_count": 8,
      "outputs": [
        {
          "output_type": "execute_result",
          "data": {
            "text/plain": [
              "<langgraph.graph.state.StateGraph at 0x78a498a20c10>"
            ]
          },
          "metadata": {},
          "execution_count": 8
        }
      ]
    },
    {
      "cell_type": "code",
      "source": [
        "from langchain_openai import ChatOpenAI\n",
        "\n",
        "llm = ChatOpenAI(model=\"gpt-4o-mini\")\n",
        "\n",
        "def job_description_node(state: State):\n",
        "    firm = state[\"firm_name\"]\n",
        "    role = state[\"role\"]\n",
        "    search_results = state[\"search_results\"]\n",
        "\n",
        "    firm_info = search_results[0]\n",
        "    role_info = search_results[1]\n",
        "\n",
        "    prompt = f\"\"\"\n",
        "    Create a comprehensive job description for the role of {role} at {firm}.\n",
        "    Here is some information about the firm:\n",
        "    {firm_info}\n",
        "\n",
        "    And here are the responsibilities of the role:\n",
        "    {role_info}\n",
        "\n",
        "    Based on this information, generate a detailed job description that includes:\n",
        "    - Job Title\n",
        "    - Company Overview\n",
        "    - Responsibilities\n",
        "    - Qualifications\n",
        "    - Benefits\n",
        "    \"\"\"\n",
        "\n",
        "    job_desc = llm.invoke(prompt)\n",
        "\n",
        "    return {\n",
        "        \"job_description\": job_desc\n",
        "    }\n",
        "\n",
        "graph_builder.add_node(\"generate_job_description\", job_description_node)"
      ],
      "metadata": {
        "colab": {
          "base_uri": "https://localhost:8080/"
        },
        "id": "dVdcXZdWa0XR",
        "outputId": "20c9c9ef-5fab-4ae8-a269-d458f56cdb31"
      },
      "execution_count": 9,
      "outputs": [
        {
          "output_type": "execute_result",
          "data": {
            "text/plain": [
              "<langgraph.graph.state.StateGraph at 0x78a498a20c10>"
            ]
          },
          "metadata": {},
          "execution_count": 9
        }
      ]
    },
    {
      "cell_type": "code",
      "source": [
        "# Connect START to Input\n",
        "graph_builder.add_edge(START, \"input\")\n",
        "\n",
        "# Connect Input to Search\n",
        "graph_builder.add_edge(\"input\", \"search\")\n",
        "\n",
        "# Connect Search to Job Description\n",
        "graph_builder.add_edge(\"search\", \"generate_job_description\")\n",
        "\n",
        "# Connect Job Description to END\n",
        "graph_builder.add_edge(\"generate_job_description\", END)"
      ],
      "metadata": {
        "colab": {
          "base_uri": "https://localhost:8080/"
        },
        "id": "iGpa4E1Fa_I8",
        "outputId": "0fa7d808-5dfb-434a-8436-2775a45dedbd"
      },
      "execution_count": 10,
      "outputs": [
        {
          "output_type": "execute_result",
          "data": {
            "text/plain": [
              "<langgraph.graph.state.StateGraph at 0x78a498a20c10>"
            ]
          },
          "metadata": {},
          "execution_count": 10
        }
      ]
    },
    {
      "cell_type": "code",
      "source": [
        "graph = graph_builder.compile()"
      ],
      "metadata": {
        "id": "q3FNfhDQbDEv"
      },
      "execution_count": 11,
      "outputs": []
    },
    {
      "cell_type": "code",
      "source": [
        "from IPython.display import Image, display\n",
        "\n",
        "try:\n",
        "    display(Image(graph.get_graph().draw_mermaid_png()))\n",
        "except Exception:\n",
        "    # This requires some extra dependencies and is optional\n",
        "    pass"
      ],
      "metadata": {
        "colab": {
          "base_uri": "https://localhost:8080/",
          "height": 449
        },
        "id": "OLJ26wCZbPwd",
        "outputId": "1df42998-2310-4b65-ed94-2f600a3c1798"
      },
      "execution_count": 12,
      "outputs": [
        {
          "output_type": "display_data",
          "data": {
            "image/png": "[encoded data removed]",
            "text/plain": [
              "<IPython.core.display.Image object>"
            ]
          },
          "metadata": {}
        }
      ]
    },
    {
      "cell_type": "code",
      "source": [
        "user_input = {\n",
        "        \"firm_name\": \"Accenture \",\n",
        "        \"role\": \"Sales manager\",\n",
        "        \"search_results\": [],\n",
        "        \"job_description\": \"\"\n",
        "    }"
      ],
      "metadata": {
        "id": "hfzPd511bQFr"
      },
      "execution_count": 17,
      "outputs": []
    },
    {
      "cell_type": "code",
      "source": [
        "result = graph.invoke(user_input)"
      ],
      "metadata": {
        "id": "vhW1VwR3bWb9"
      },
      "execution_count": 18,
      "outputs": []
    },
    {
      "cell_type": "code",
      "source": [
        "print(result['job_description'].content)"
      ],
      "metadata": {
        "colab": {
          "base_uri": "https://localhost:8080/"
        },
        "id": "N8Ks9WeibYlT",
        "outputId": "bba3a768-fb2b-4566-a2ec-6660505e3370"
      },
      "execution_count": 19,
      "outputs": [
        {
          "output_type": "stream",
          "name": "stdout",
          "text": [
            "**Job Title:** Sales Manager\n",
            "\n",
            "**Company Overview:**\n",
            "Accenture is a global professional services company with leading capabilities in digital, cloud, and security. Combining unmatched experience and specialized skills across more than 40 industries, we offer strategy and consulting, digital transformation, technology implementation, and operations services. We are committed to driving innovation and delivering value to our clients, enabling them to achieve high performance and create new growth opportunities in a rapidly changing business landscape.\n",
            "\n",
            "**Responsibilities:**\n",
            "As a Sales Manager at Accenture, you will play a critical role in driving our sales strategy and achieving business growth. Your responsibilities will include:\n",
            "\n",
            "1. **Sales Strategy Development:**\n",
            "   - Develop and execute comprehensive sales strategies to meet or exceed revenue targets.\n",
            "   - Analyze market trends and customer needs to identify growth opportunities.\n",
            "\n",
            "2. **Client Relationship Management:**\n",
            "   - Build and maintain strong relationships with key clients, understanding their business challenges and providing tailored solutions.\n",
            "   - Act as the primary point of contact for clients, ensuring high levels of customer satisfaction.\n",
            "\n",
            "3. **Team Leadership:**\n",
            "   - Lead and mentor the sales team, fostering a culture of collaboration, accountability, and high performance.\n",
            "   - Provide training and support to team members to enhance their sales skills and product knowledge.\n",
            "\n",
            "4. **Sales Performance Analysis:**\n",
            "   - Monitor and analyze sales performance metrics, adjusting strategies as needed to maximize effectiveness.\n",
            "   - Prepare and present regular sales reports to senior management, highlighting achievements and areas for improvement.\n",
            "\n",
            "5. **Collaboration with Internal Teams:**\n",
            "   - Work closely with marketing, product development, and operations teams to ensure alignment on sales initiatives and client needs.\n",
            "   - Collaborate on the development of innovative sales tools and resources.\n",
            "\n",
            "6. **Market Intelligence:**\n",
            "   - Conduct competitive analysis and industry research to identify market trends and emerging opportunities.\n",
            "   - Stay informed on industry developments and participate in relevant networking events and conferences.\n",
            "\n",
            "**Qualifications:**\n",
            "- Bachelor’s degree in Business Administration, Marketing, or a related field; MBA preferred.\n",
            "- 5+ years of experience in sales, with a proven track record of meeting or exceeding sales targets, preferably in a professional services or consulting environment.\n",
            "- Strong leadership skills with experience managing and motivating sales teams.\n",
            "- Excellent communication, negotiation, and interpersonal skills.\n",
            "- Ability to analyze complex data and generate actionable insights.\n",
            "- Proficiency in CRM software and sales analytics tools.\n",
            "\n",
            "**Benefits:**\n",
            "- Competitive salary and performance-based bonuses.\n",
            "- Comprehensive health and wellness benefits.\n",
            "- Opportunities for professional development and continuous learning, including access to training programs and certification.\n",
            "- Generous paid time off and flexible work arrangements.\n",
            "- Retirement savings plan with company matching.\n",
            "- Diverse and inclusive workplace culture promoting teamwork and collaboration.\n",
            "\n",
            "Join us at Accenture to help shape the future of businesses and communities worldwide. If you are a results-driven sales leader with a passion for innovation and client success, we invite you to apply today!\n"
          ]
        }
      ]
    },
    {
      "cell_type": "code",
      "source": [],
      "metadata": {
        "id": "Xr_knTQGbc7o"
      },
      "execution_count": null,
      "outputs": []
    }
  ]
}